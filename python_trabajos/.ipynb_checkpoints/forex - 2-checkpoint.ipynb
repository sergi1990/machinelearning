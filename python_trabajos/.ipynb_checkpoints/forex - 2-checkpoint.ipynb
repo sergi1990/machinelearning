{
 "cells": [
  {
   "cell_type": "code",
   "execution_count": 1,
   "metadata": {
    "scrolled": true
   },
   "outputs": [
    {
     "ename": "ModuleNotFoundError",
     "evalue": "No module named 'yfinance'",
     "output_type": "error",
     "traceback": [
      "\u001b[0;31m---------------------------------------------------------------------------\u001b[0m",
      "\u001b[0;31mModuleNotFoundError\u001b[0m                       Traceback (most recent call last)",
      "\u001b[0;32m<ipython-input-1-82b9b5ef6e94>\u001b[0m in \u001b[0;36m<module>\u001b[0;34m\u001b[0m\n\u001b[1;32m      2\u001b[0m \u001b[0;31m#import pandas_datareader.data as web ## 1..\u001b[0m\u001b[0;34m\u001b[0m\u001b[0;34m\u001b[0m\u001b[0;34m\u001b[0m\u001b[0m\n\u001b[1;32m      3\u001b[0m \u001b[0;31m#from pandas_datareader import data as pdr\u001b[0m\u001b[0;34m\u001b[0m\u001b[0;34m\u001b[0m\u001b[0;34m\u001b[0m\u001b[0m\n\u001b[0;32m----> 4\u001b[0;31m \u001b[0;32mimport\u001b[0m \u001b[0myfinance\u001b[0m \u001b[0;32mas\u001b[0m \u001b[0myf\u001b[0m\u001b[0;34m\u001b[0m\u001b[0;34m\u001b[0m\u001b[0m\n\u001b[0m\u001b[1;32m      5\u001b[0m \u001b[0;32mfrom\u001b[0m \u001b[0myahoofinancials\u001b[0m \u001b[0;32mimport\u001b[0m \u001b[0mYahooFinancials\u001b[0m\u001b[0;34m\u001b[0m\u001b[0;34m\u001b[0m\u001b[0m\n\u001b[1;32m      6\u001b[0m \u001b[0;32mimport\u001b[0m \u001b[0mnumpy\u001b[0m \u001b[0;32mas\u001b[0m \u001b[0mnp\u001b[0m\u001b[0;34m\u001b[0m\u001b[0;34m\u001b[0m\u001b[0m\n",
      "\u001b[0;31mModuleNotFoundError\u001b[0m: No module named 'yfinance'"
     ]
    }
   ],
   "source": [
    "import math \n",
    "#import pandas_datareader.data as web ## 1..\n",
    "#from pandas_datareader import data as pdr\n",
    "import yfinance as yf\n",
    "from yahoofinancials import YahooFinancials\n",
    "import numpy as np\n",
    "import pandas as pd\n",
    "from sklearn.preprocessing import MinMaxScaler ## 3.. rangos de 0 -1\n",
    "from keras.models import Sequential\n",
    "from keras.layers import Dense, LSTM\n",
    "import matplotlib.pyplot as plt ##2...\n",
    "plt.style.use(\"fivethirtyeight\")\n"
   ]
  },
  {
   "cell_type": "code",
   "execution_count": 27,
   "metadata": {},
   "outputs": [],
   "source": [
    "## 1.. llamamos la base de datos desde internet web.DataReader\n",
    "#urlparse"
   ]
  },
  {
   "cell_type": "code",
   "execution_count": 39,
   "metadata": {},
   "outputs": [
    {
     "ename": "TypeError",
     "evalue": "urlopen() got an unexpected keyword argument 'data_source'",
     "output_type": "error",
     "traceback": [
      "\u001b[1;31m---------------------------------------------------------------------------\u001b[0m",
      "\u001b[1;31mTypeError\u001b[0m                                 Traceback (most recent call last)",
      "\u001b[1;32m<ipython-input-39-d5dc6c7e89df>\u001b[0m in \u001b[0;36m<module>\u001b[1;34m\u001b[0m\n\u001b[1;32m----> 1\u001b[1;33m \u001b[0mdata\u001b[0m \u001b[1;33m=\u001b[0m \u001b[0murlopen\u001b[0m\u001b[1;33m(\u001b[0m\u001b[1;34m\"AAPL\"\u001b[0m\u001b[1;33m,\u001b[0m \u001b[0mdata_source\u001b[0m\u001b[1;33m=\u001b[0m\u001b[1;34m\"yahoo\"\u001b[0m\u001b[1;33m,\u001b[0m \u001b[0mstart\u001b[0m\u001b[1;33m=\u001b[0m\u001b[1;34m\"2012-01-01\"\u001b[0m\u001b[1;33m,\u001b[0m \u001b[0mend\u001b[0m\u001b[1;33m=\u001b[0m \u001b[1;34m\"2020-08-9\"\u001b[0m\u001b[1;33m)\u001b[0m\u001b[1;33m\u001b[0m\u001b[1;33m\u001b[0m\u001b[0m\n\u001b[0m",
      "\u001b[1;31mTypeError\u001b[0m: urlopen() got an unexpected keyword argument 'data_source'"
     ]
    }
   ],
   "source": [
    "data = urlopen(\"AAPL\", data_source=\"yahoo\", start=\"2012-01-01\", end= \"2020-08-9\")"
   ]
  },
  {
   "cell_type": "code",
   "execution_count": null,
   "metadata": {},
   "outputs": [],
   "source": []
  },
  {
   "cell_type": "code",
   "execution_count": 4,
   "metadata": {},
   "outputs": [
    {
     "data": {
      "text/html": [
       "<div>\n",
       "<style scoped>\n",
       "    .dataframe tbody tr th:only-of-type {\n",
       "        vertical-align: middle;\n",
       "    }\n",
       "\n",
       "    .dataframe tbody tr th {\n",
       "        vertical-align: top;\n",
       "    }\n",
       "\n",
       "    .dataframe thead th {\n",
       "        text-align: right;\n",
       "    }\n",
       "</style>\n",
       "<table border=\"1\" class=\"dataframe\">\n",
       "  <thead>\n",
       "    <tr style=\"text-align: right;\">\n",
       "      <th></th>\n",
       "      <th>High</th>\n",
       "      <th>Low</th>\n",
       "      <th>Open</th>\n",
       "      <th>Close</th>\n",
       "      <th>Volume</th>\n",
       "      <th>Adj Close</th>\n",
       "    </tr>\n",
       "    <tr>\n",
       "      <th>Date</th>\n",
       "      <th></th>\n",
       "      <th></th>\n",
       "      <th></th>\n",
       "      <th></th>\n",
       "      <th></th>\n",
       "      <th></th>\n",
       "    </tr>\n",
       "  </thead>\n",
       "  <tbody>\n",
       "    <tr>\n",
       "      <th>2020-08-03</th>\n",
       "      <td>446.549988</td>\n",
       "      <td>431.570007</td>\n",
       "      <td>432.799988</td>\n",
       "      <td>435.750000</td>\n",
       "      <td>77037800.0</td>\n",
       "      <td>434.965759</td>\n",
       "    </tr>\n",
       "    <tr>\n",
       "      <th>2020-08-04</th>\n",
       "      <td>443.160004</td>\n",
       "      <td>433.549988</td>\n",
       "      <td>436.529999</td>\n",
       "      <td>438.660004</td>\n",
       "      <td>43267900.0</td>\n",
       "      <td>437.870514</td>\n",
       "    </tr>\n",
       "    <tr>\n",
       "      <th>2020-08-05</th>\n",
       "      <td>441.570007</td>\n",
       "      <td>435.589996</td>\n",
       "      <td>437.510010</td>\n",
       "      <td>440.250000</td>\n",
       "      <td>30498000.0</td>\n",
       "      <td>439.457642</td>\n",
       "    </tr>\n",
       "    <tr>\n",
       "      <th>2020-08-06</th>\n",
       "      <td>457.649994</td>\n",
       "      <td>439.190002</td>\n",
       "      <td>441.619995</td>\n",
       "      <td>455.609985</td>\n",
       "      <td>50607200.0</td>\n",
       "      <td>454.790009</td>\n",
       "    </tr>\n",
       "    <tr>\n",
       "      <th>2020-08-07</th>\n",
       "      <td>454.700012</td>\n",
       "      <td>441.170013</td>\n",
       "      <td>452.820007</td>\n",
       "      <td>444.450012</td>\n",
       "      <td>49453300.0</td>\n",
       "      <td>444.450012</td>\n",
       "    </tr>\n",
       "  </tbody>\n",
       "</table>\n",
       "</div>"
      ],
      "text/plain": [
       "                  High         Low        Open       Close      Volume  \\\n",
       "Date                                                                     \n",
       "2020-08-03  446.549988  431.570007  432.799988  435.750000  77037800.0   \n",
       "2020-08-04  443.160004  433.549988  436.529999  438.660004  43267900.0   \n",
       "2020-08-05  441.570007  435.589996  437.510010  440.250000  30498000.0   \n",
       "2020-08-06  457.649994  439.190002  441.619995  455.609985  50607200.0   \n",
       "2020-08-07  454.700012  441.170013  452.820007  444.450012  49453300.0   \n",
       "\n",
       "             Adj Close  \n",
       "Date                    \n",
       "2020-08-03  434.965759  \n",
       "2020-08-04  437.870514  \n",
       "2020-08-05  439.457642  \n",
       "2020-08-06  454.790009  \n",
       "2020-08-07  444.450012  "
      ]
     },
     "execution_count": 4,
     "metadata": {},
     "output_type": "execute_result"
    }
   ],
   "source": [
    "data.tail()"
   ]
  },
  {
   "cell_type": "code",
   "execution_count": 5,
   "metadata": {},
   "outputs": [
    {
     "data": {
      "text/plain": [
       "(2164, 6)"
      ]
     },
     "execution_count": 5,
     "metadata": {},
     "output_type": "execute_result"
    }
   ],
   "source": [
    "data.shape"
   ]
  },
  {
   "cell_type": "code",
   "execution_count": 6,
   "metadata": {},
   "outputs": [
    {
     "data": {
      "image/png": "[encoded data removed]",
      "text/plain": [
       "<Figure size 1152x360 with 1 Axes>"
      ]
     },
     "metadata": {},
     "output_type": "display_data"
    }
   ],
   "source": [
    "##2...\n",
    "plt.figure(figsize=(16,5))\n",
    "plt.title(\"Close Price History\")\n",
    "plt.plot(data[\"Close\"])\n",
    "plt.xlabel (\"Date\", fontsize=18)\n",
    "plt.ylabel(\"Close Price Usd ($)\", fontsize=18)\n",
    "plt.show()"
   ]
  },
  {
   "cell_type": "code",
   "execution_count": 7,
   "metadata": {},
   "outputs": [
    {
     "data": {
      "text/plain": [
       "1732"
      ]
     },
     "execution_count": 7,
     "metadata": {},
     "output_type": "execute_result"
    }
   ],
   "source": [
    "## Para obtener el 80% de la base de datos \n",
    "data_fil= data.filter([\"Close\"])\n",
    "dataset = data_fil.values\n",
    "training_data_fil_len = math.ceil(len(dataset)* .8)\n",
    "\n",
    "training_data_fil_len"
   ]
  },
  {
   "cell_type": "code",
   "execution_count": 8,
   "metadata": {},
   "outputs": [
    {
     "data": {
      "text/plain": [
       "array([[0.00739618],\n",
       "       [0.00818583],\n",
       "       [0.00982585],\n",
       "       ...,\n",
       "       [0.96158275],\n",
       "       [1.        ],\n",
       "       [0.97208751]])"
      ]
     },
     "execution_count": 8,
     "metadata": {},
     "output_type": "execute_result"
    }
   ],
   "source": [
    "##3... Se procesan los datos en un rango de 0 - 1 \n",
    "scaler = MinMaxScaler(feature_range=(0,1))\n",
    "scaled_data = scaler.fit_transform(dataset)\n",
    "\n",
    "scaled_data"
   ]
  },
  {
   "cell_type": "code",
   "execution_count": 9,
   "metadata": {},
   "outputs": [
    {
     "name": "stdout",
     "output_type": "stream",
     "text": [
      "[array([0.00739618, 0.00818583, 0.00982585, 0.01138727, 0.01114787,\n",
      "       0.0116874 , 0.01144086, 0.01102639, 0.01046185, 0.01220906,\n",
      "       0.01378478, 0.01329884, 0.01063693, 0.01317736, 0.01067623,\n",
      "       0.02005545, 0.01933012, 0.02027698, 0.02232433, 0.02356417,\n",
      "       0.02346055, 0.02307824, 0.02470755, 0.02624037, 0.02797688,\n",
      "       0.03078171, 0.03667365, 0.03676297, 0.04004303, 0.04249412,\n",
      "       0.0382815 , 0.03990367, 0.03987152, 0.04442   , 0.04377327,\n",
      "       0.04497023, 0.0471212 , 0.04831818, 0.05176616, 0.05427801,\n",
      "       0.05500332, 0.05525701, 0.05096223, 0.04992603, 0.05007968,\n",
      "       0.0541172 , 0.05525344, 0.05769381, 0.06344641, 0.07112129,\n",
      "       0.06968493, 0.0696885 , 0.07523743, 0.07697392, 0.07573765,\n",
      "       0.07460858, 0.07343305, 0.07733837, 0.08001816, 0.08114009])]\n",
      "[0.078367406443692]\n",
      "\n"
     ]
    }
   ],
   "source": [
    "## crearemos  un conjunto de datos de entrenamiento\n",
    " ##Primero crearemos un conjunto de datos a escala\n",
    "train_data = scaled_data [0:training_data_fil_len, :]\n",
    "\n",
    "x_train =[]\n",
    "y_train =[]\n",
    "\n",
    "for i in range(60,len(train_data)):## son 60\n",
    "    x_train.append(train_data[i-60:i,0])\n",
    "    y_train.append(train_data[i,0])\n",
    "    if i<=60:\n",
    "        print (x_train)\n",
    "        print (y_train)\n",
    "        print()\n",
    "    "
   ]
  },
  {
   "cell_type": "code",
   "execution_count": 10,
   "metadata": {},
   "outputs": [],
   "source": [
    "##Convertir los X_train y Y_train en matrices Numpy para poder utilizarlas entrenando el modelo  LSTM\n",
    "x_train, y_train = np.array(x_train), np.array(y_train)"
   ]
  },
  {
   "cell_type": "code",
   "execution_count": 11,
   "metadata": {},
   "outputs": [
    {
     "data": {
      "text/plain": [
       "(1672, 60, 1)"
      ]
     },
     "execution_count": 11,
     "metadata": {},
     "output_type": "execute_result"
    }
   ],
   "source": [
    "x_train=np.reshape(x_train,(x_train.shape[0], x_train.shape[1],1))\n",
    "x_train.shape"
   ]
  },
  {
   "cell_type": "code",
   "execution_count": 12,
   "metadata": {},
   "outputs": [],
   "source": [
    "## Construir el modelo LSTM\n",
    "model = Sequential()\n",
    "model.add(LSTM(50,return_sequences=True, input_shape =(x_train.shape[1],1)))\n",
    "model.add(LSTM (50,return_sequences= False))\n",
    "model.add(Dense(25))\n",
    "model.add(Dense(1))"
   ]
  },
  {
   "cell_type": "code",
   "execution_count": 13,
   "metadata": {},
   "outputs": [],
   "source": [
    "## Compilar el modelo\n",
    "model.compile(optimizer = \"adam\", loss=\"mean_squared_error\")"
   ]
  },
  {
   "cell_type": "code",
   "execution_count": 20,
   "metadata": {},
   "outputs": [
    {
     "name": "stdout",
     "output_type": "stream",
     "text": [
      "Epoch 1/10\n",
      "1672/1672 [==============================] - 6s 3ms/step - loss: 8.2168e-05\n",
      "Epoch 2/10\n",
      "1672/1672 [==============================] - 7s 4ms/step - loss: 5.8962e-05\n",
      "Epoch 3/10\n",
      "1672/1672 [==============================] - 8s 5ms/step - loss: 5.3906e-05\n",
      "Epoch 4/10\n",
      "1672/1672 [==============================] - 9s 5ms/step - loss: 5.5878e-05\n",
      "Epoch 5/10\n",
      "1672/1672 [==============================] - 10s 6ms/step - loss: 5.0466e-05\n",
      "Epoch 6/10\n",
      "1672/1672 [==============================] - 10s 6ms/step - loss: 5.3044e-05\n",
      "Epoch 7/10\n",
      "1672/1672 [==============================] - 9s 5ms/step - loss: 5.0668e-05\n",
      "Epoch 8/10\n",
      "1672/1672 [==============================] - 8s 5ms/step - loss: 4.6540e-05\n",
      "Epoch 9/10\n",
      "1672/1672 [==============================] - 10s 6ms/step - loss: 4.8523e-05\n",
      "Epoch 10/10\n",
      "1672/1672 [==============================] - 8s 5ms/step - loss: 4.4350e-05\n"
     ]
    },
    {
     "data": {
      "text/plain": [
       "<keras.callbacks.callbacks.History at 0x290a1792a88>"
      ]
     },
     "execution_count": 20,
     "metadata": {},
     "output_type": "execute_result"
    }
   ],
   "source": [
    "model.fit(x_train, y_train, batch_size=10,epochs=10)"
   ]
  },
  {
   "cell_type": "code",
   "execution_count": 21,
   "metadata": {},
   "outputs": [],
   "source": [
    " ##crearemos el conjunto de datos  testing\n",
    "test_data =scaled_data[training_data_fil_len - 60:,:]## son 60\n",
    "#crearemos conjunto de datos x_test y y_tets\n",
    "x_test = []\n",
    "y_test = dataset[training_data_fil_len:,:]\n",
    "\n",
    "for i in range ( 60, len(test_data)):\n",
    "    x_test.append(test_data[i-60:i,0])"
   ]
  },
  {
   "cell_type": "code",
   "execution_count": 22,
   "metadata": {},
   "outputs": [],
   "source": [
    "# convertir el data en una matriz numpy arreglo\n",
    "x_test =np.array(x_test)"
   ]
  },
  {
   "cell_type": "code",
   "execution_count": 23,
   "metadata": {},
   "outputs": [],
   "source": [
    "#remodelando el data\n",
    "x_test = np.reshape(x_test, (x_test.shape[0], x_test.shape[1],1 ))"
   ]
  },
  {
   "cell_type": "code",
   "execution_count": 24,
   "metadata": {},
   "outputs": [],
   "source": [
    " #get the models predicted price values\n",
    "predictions = model.predict(x_test)\n",
    "predictions = scaler.inverse_transform(predictions)"
   ]
  },
  {
   "cell_type": "code",
   "execution_count": 25,
   "metadata": {},
   "outputs": [
    {
     "data": {
      "text/plain": [
       "2.042396969265408"
      ]
     },
     "execution_count": 25,
     "metadata": {},
     "output_type": "execute_result"
    }
   ],
   "source": [
    "#get the root mean squared error(RMSE) Using TensorFlow backend.\n",
    "rmse = np.sqrt(np.mean(predictions - y_test)**2)\n",
    "rmse"
   ]
  },
  {
   "cell_type": "code",
   "execution_count": 26,
   "metadata": {},
   "outputs": [
    {
     "name": "stderr",
     "output_type": "stream",
     "text": [
      "C:\\Users\\USUARIO\\Anaconda3\\lib\\site-packages\\ipykernel_launcher.py:3: SettingWithCopyWarning: \n",
      "A value is trying to be set on a copy of a slice from a DataFrame.\n",
      "Try using .loc[row_indexer,col_indexer] = value instead\n",
      "\n",
      "See the caveats in the documentation: https://pandas.pydata.org/pandas-docs/stable/user_guide/indexing.html#returning-a-view-versus-a-copy\n",
      "  This is separate from the ipykernel package so we can avoid doing imports until\n"
     ]
    },
    {
     "data": {
      "image/png": "[encoded data removed]",
      "text/plain": [
       "<Figure size 1152x576 with 1 Axes>"
      ]
     },
     "metadata": {},
     "output_type": "display_data"
    }
   ],
   "source": [
    "train = data[:training_data_fil_len]\n",
    "valid = data[training_data_fil_len:]\n",
    "valid[\"predictions\"]= predictions\n",
    "# visualize the data\n",
    "plt.figure(figsize=(16,8))\n",
    "plt.title(\"Model\")\n",
    "plt.xlabel(\"Date\", fontsize=18)\n",
    "plt.ylabel(\"Close Price usd ($)\", fontsize=18)\n",
    "plt.plot(train[\"Close\"])\n",
    "plt.plot(valid[[\"Close\",\"predictions\"]])\n",
    "plt.legend([\"Train\",\"Val\",\"predictions\"], loc=\"lower right\")\n",
    "plt.show()"
   ]
  },
  {
   "cell_type": "code",
   "execution_count": 27,
   "metadata": {},
   "outputs": [
    {
     "data": {
      "text/html": [
       "<div>\n",
       "<style scoped>\n",
       "    .dataframe tbody tr th:only-of-type {\n",
       "        vertical-align: middle;\n",
       "    }\n",
       "\n",
       "    .dataframe tbody tr th {\n",
       "        vertical-align: top;\n",
       "    }\n",
       "\n",
       "    .dataframe thead th {\n",
       "        text-align: right;\n",
       "    }\n",
       "</style>\n",
       "<table border=\"1\" class=\"dataframe\">\n",
       "  <thead>\n",
       "    <tr style=\"text-align: right;\">\n",
       "      <th></th>\n",
       "      <th>High</th>\n",
       "      <th>Low</th>\n",
       "      <th>Open</th>\n",
       "      <th>Close</th>\n",
       "      <th>Volume</th>\n",
       "      <th>Adj Close</th>\n",
       "      <th>predictions</th>\n",
       "    </tr>\n",
       "    <tr>\n",
       "      <th>Date</th>\n",
       "      <th></th>\n",
       "      <th></th>\n",
       "      <th></th>\n",
       "      <th></th>\n",
       "      <th></th>\n",
       "      <th></th>\n",
       "      <th></th>\n",
       "    </tr>\n",
       "  </thead>\n",
       "  <tbody>\n",
       "    <tr>\n",
       "      <th>2018-11-19</th>\n",
       "      <td>190.699997</td>\n",
       "      <td>184.990005</td>\n",
       "      <td>190.000000</td>\n",
       "      <td>185.860001</td>\n",
       "      <td>41925300.0</td>\n",
       "      <td>181.854202</td>\n",
       "      <td>190.286606</td>\n",
       "    </tr>\n",
       "    <tr>\n",
       "      <th>2018-11-20</th>\n",
       "      <td>181.470001</td>\n",
       "      <td>175.509995</td>\n",
       "      <td>178.369995</td>\n",
       "      <td>176.979996</td>\n",
       "      <td>67825200.0</td>\n",
       "      <td>173.165588</td>\n",
       "      <td>189.331741</td>\n",
       "    </tr>\n",
       "    <tr>\n",
       "      <th>2018-11-21</th>\n",
       "      <td>180.270004</td>\n",
       "      <td>176.550003</td>\n",
       "      <td>179.729996</td>\n",
       "      <td>176.779999</td>\n",
       "      <td>31124200.0</td>\n",
       "      <td>172.969894</td>\n",
       "      <td>185.037766</td>\n",
       "    </tr>\n",
       "    <tr>\n",
       "      <th>2018-11-23</th>\n",
       "      <td>176.600006</td>\n",
       "      <td>172.100006</td>\n",
       "      <td>174.940002</td>\n",
       "      <td>172.289993</td>\n",
       "      <td>23624000.0</td>\n",
       "      <td>168.576660</td>\n",
       "      <td>180.910202</td>\n",
       "    </tr>\n",
       "    <tr>\n",
       "      <th>2018-11-26</th>\n",
       "      <td>174.949997</td>\n",
       "      <td>170.259995</td>\n",
       "      <td>174.240005</td>\n",
       "      <td>174.619995</td>\n",
       "      <td>44998500.0</td>\n",
       "      <td>170.856445</td>\n",
       "      <td>176.677460</td>\n",
       "    </tr>\n",
       "    <tr>\n",
       "      <th>...</th>\n",
       "      <td>...</td>\n",
       "      <td>...</td>\n",
       "      <td>...</td>\n",
       "      <td>...</td>\n",
       "      <td>...</td>\n",
       "      <td>...</td>\n",
       "      <td>...</td>\n",
       "    </tr>\n",
       "    <tr>\n",
       "      <th>2020-08-03</th>\n",
       "      <td>446.549988</td>\n",
       "      <td>431.570007</td>\n",
       "      <td>432.799988</td>\n",
       "      <td>435.750000</td>\n",
       "      <td>77037800.0</td>\n",
       "      <td>434.965759</td>\n",
       "      <td>397.532227</td>\n",
       "    </tr>\n",
       "    <tr>\n",
       "      <th>2020-08-04</th>\n",
       "      <td>443.160004</td>\n",
       "      <td>433.549988</td>\n",
       "      <td>436.529999</td>\n",
       "      <td>438.660004</td>\n",
       "      <td>43267900.0</td>\n",
       "      <td>437.870514</td>\n",
       "      <td>420.615509</td>\n",
       "    </tr>\n",
       "    <tr>\n",
       "      <th>2020-08-05</th>\n",
       "      <td>441.570007</td>\n",
       "      <td>435.589996</td>\n",
       "      <td>437.510010</td>\n",
       "      <td>440.250000</td>\n",
       "      <td>30498000.0</td>\n",
       "      <td>439.457642</td>\n",
       "      <td>435.793610</td>\n",
       "    </tr>\n",
       "    <tr>\n",
       "      <th>2020-08-06</th>\n",
       "      <td>457.649994</td>\n",
       "      <td>439.190002</td>\n",
       "      <td>441.619995</td>\n",
       "      <td>455.609985</td>\n",
       "      <td>50607200.0</td>\n",
       "      <td>454.790009</td>\n",
       "      <td>441.838593</td>\n",
       "    </tr>\n",
       "    <tr>\n",
       "      <th>2020-08-07</th>\n",
       "      <td>454.700012</td>\n",
       "      <td>441.170013</td>\n",
       "      <td>452.820007</td>\n",
       "      <td>444.450012</td>\n",
       "      <td>49453300.0</td>\n",
       "      <td>444.450012</td>\n",
       "      <td>447.621796</td>\n",
       "    </tr>\n",
       "  </tbody>\n",
       "</table>\n",
       "<p>432 rows × 7 columns</p>\n",
       "</div>"
      ],
      "text/plain": [
       "                  High         Low        Open       Close      Volume  \\\n",
       "Date                                                                     \n",
       "2018-11-19  190.699997  184.990005  190.000000  185.860001  41925300.0   \n",
       "2018-11-20  181.470001  175.509995  178.369995  176.979996  67825200.0   \n",
       "2018-11-21  180.270004  176.550003  179.729996  176.779999  31124200.0   \n",
       "2018-11-23  176.600006  172.100006  174.940002  172.289993  23624000.0   \n",
       "2018-11-26  174.949997  170.259995  174.240005  174.619995  44998500.0   \n",
       "...                ...         ...         ...         ...         ...   \n",
       "2020-08-03  446.549988  431.570007  432.799988  435.750000  77037800.0   \n",
       "2020-08-04  443.160004  433.549988  436.529999  438.660004  43267900.0   \n",
       "2020-08-05  441.570007  435.589996  437.510010  440.250000  30498000.0   \n",
       "2020-08-06  457.649994  439.190002  441.619995  455.609985  50607200.0   \n",
       "2020-08-07  454.700012  441.170013  452.820007  444.450012  49453300.0   \n",
       "\n",
       "             Adj Close  predictions  \n",
       "Date                                 \n",
       "2018-11-19  181.854202   190.286606  \n",
       "2018-11-20  173.165588   189.331741  \n",
       "2018-11-21  172.969894   185.037766  \n",
       "2018-11-23  168.576660   180.910202  \n",
       "2018-11-26  170.856445   176.677460  \n",
       "...                ...          ...  \n",
       "2020-08-03  434.965759   397.532227  \n",
       "2020-08-04  437.870514   420.615509  \n",
       "2020-08-05  439.457642   435.793610  \n",
       "2020-08-06  454.790009   441.838593  \n",
       "2020-08-07  444.450012   447.621796  \n",
       "\n",
       "[432 rows x 7 columns]"
      ]
     },
     "execution_count": 27,
     "metadata": {},
     "output_type": "execute_result"
    }
   ],
   "source": [
    "valid"
   ]
  },
  {
   "cell_type": "code",
   "execution_count": 28,
   "metadata": {},
   "outputs": [
    {
     "name": "stdout",
     "output_type": "stream",
     "text": [
      "[[444.8367]]\n"
     ]
    }
   ],
   "source": [
    "# get the qoute(cotizacion)\n",
    "\n",
    "new_df = data.filter([\"Close\"])\n",
    "last_60_days = new_df[-60:].values## son 60\n",
    "last_60_days_scaled= scaler.transform(last_60_days)\n",
    "X_test= []\n",
    "X_test.append(last_60_days_scaled)\n",
    "X_test = np.array(X_test)\n",
    "X_test = np.reshape(X_test,(X_test.shape[0], X_test.shape[1], 1))\n",
    "pred_price = model.predict(X_test)\n",
    "pred_price= scaler.inverse_transform(pred_price)\n",
    "print(pred_price)"
   ]
  },
  {
   "cell_type": "code",
   "execution_count": 103,
   "metadata": {},
   "outputs": [],
   "source": [
    "data_fi = web.DataReader(\"AAPL\", data_source=\"yahoo\", start=\"2012-01-01\", end= \"2020-07-20\")"
   ]
  },
  {
   "cell_type": "code",
   "execution_count": 42,
   "metadata": {},
   "outputs": [
    {
     "data": {
      "text/html": [
       "<div>\n",
       "<style scoped>\n",
       "    .dataframe tbody tr th:only-of-type {\n",
       "        vertical-align: middle;\n",
       "    }\n",
       "\n",
       "    .dataframe tbody tr th {\n",
       "        vertical-align: top;\n",
       "    }\n",
       "\n",
       "    .dataframe thead th {\n",
       "        text-align: right;\n",
       "    }\n",
       "</style>\n",
       "<table border=\"1\" class=\"dataframe\">\n",
       "  <thead>\n",
       "    <tr style=\"text-align: right;\">\n",
       "      <th></th>\n",
       "      <th>High</th>\n",
       "      <th>Low</th>\n",
       "      <th>Open</th>\n",
       "      <th>Close</th>\n",
       "      <th>Volume</th>\n",
       "      <th>Adj Close</th>\n",
       "    </tr>\n",
       "    <tr>\n",
       "      <th>Date</th>\n",
       "      <th></th>\n",
       "      <th></th>\n",
       "      <th></th>\n",
       "      <th></th>\n",
       "      <th></th>\n",
       "      <th></th>\n",
       "    </tr>\n",
       "  </thead>\n",
       "  <tbody>\n",
       "    <tr>\n",
       "      <th>2020-07-14</th>\n",
       "      <td>389.019989</td>\n",
       "      <td>375.510010</td>\n",
       "      <td>379.359985</td>\n",
       "      <td>388.230011</td>\n",
       "      <td>42747300.0</td>\n",
       "      <td>388.230011</td>\n",
       "    </tr>\n",
       "    <tr>\n",
       "      <th>2020-07-15</th>\n",
       "      <td>396.989990</td>\n",
       "      <td>385.959991</td>\n",
       "      <td>395.959991</td>\n",
       "      <td>390.899994</td>\n",
       "      <td>38299500.0</td>\n",
       "      <td>390.899994</td>\n",
       "    </tr>\n",
       "    <tr>\n",
       "      <th>2020-07-16</th>\n",
       "      <td>389.619995</td>\n",
       "      <td>383.619995</td>\n",
       "      <td>386.250000</td>\n",
       "      <td>386.089996</td>\n",
       "      <td>27644400.0</td>\n",
       "      <td>386.089996</td>\n",
       "    </tr>\n",
       "    <tr>\n",
       "      <th>2020-07-17</th>\n",
       "      <td>388.589996</td>\n",
       "      <td>383.359985</td>\n",
       "      <td>387.950012</td>\n",
       "      <td>385.309998</td>\n",
       "      <td>23046700.0</td>\n",
       "      <td>385.309998</td>\n",
       "    </tr>\n",
       "    <tr>\n",
       "      <th>2020-07-20</th>\n",
       "      <td>394.000000</td>\n",
       "      <td>384.250000</td>\n",
       "      <td>385.670013</td>\n",
       "      <td>393.429993</td>\n",
       "      <td>22531700.0</td>\n",
       "      <td>393.429993</td>\n",
       "    </tr>\n",
       "  </tbody>\n",
       "</table>\n",
       "</div>"
      ],
      "text/plain": [
       "                  High         Low        Open       Close      Volume  \\\n",
       "Date                                                                     \n",
       "2020-07-14  389.019989  375.510010  379.359985  388.230011  42747300.0   \n",
       "2020-07-15  396.989990  385.959991  395.959991  390.899994  38299500.0   \n",
       "2020-07-16  389.619995  383.619995  386.250000  386.089996  27644400.0   \n",
       "2020-07-17  388.589996  383.359985  387.950012  385.309998  23046700.0   \n",
       "2020-07-20  394.000000  384.250000  385.670013  393.429993  22531700.0   \n",
       "\n",
       "             Adj Close  \n",
       "Date                    \n",
       "2020-07-14  388.230011  \n",
       "2020-07-15  390.899994  \n",
       "2020-07-16  386.089996  \n",
       "2020-07-17  385.309998  \n",
       "2020-07-20  393.429993  "
      ]
     },
     "execution_count": 42,
     "metadata": {},
     "output_type": "execute_result"
    }
   ],
   "source": [
    "data_fi.tail()"
   ]
  },
  {
   "cell_type": "code",
   "execution_count": null,
   "metadata": {},
   "outputs": [],
   "source": []
  },
  {
   "cell_type": "code",
   "execution_count": null,
   "metadata": {},
   "outputs": [],
   "source": []
  },
  {
   "cell_type": "code",
   "execution_count": null,
   "metadata": {},
   "outputs": [],
   "source": []
  },
  {
   "cell_type": "code",
   "execution_count": null,
   "metadata": {},
   "outputs": [],
   "source": []
  }
 ],
 "metadata": {
  "kernelspec": {
   "display_name": "Python 3",
   "language": "python",
   "name": "python3"
  },
  "language_info": {
   "codemirror_mode": {
    "name": "ipython",
    "version": 3
   },
   "file_extension": ".py",
   "mimetype": "text/x-python",
   "name": "python",
   "nbconvert_exporter": "python",
   "pygments_lexer": "ipython3",
   "version": "3.8.5"
  }
 },
 "nbformat": 4,
 "nbformat_minor": 4
}
