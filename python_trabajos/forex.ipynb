{
 "cells": [
  {
   "cell_type": "code",
   "execution_count": 4,
   "metadata": {},
   "outputs": [
    {
     "ename": "ModuleNotFoundError",
     "evalue": "No module named 'yfinance'",
     "output_type": "error",
     "traceback": [
      "\u001b[1;31m---------------------------------------------------------------------------\u001b[0m",
      "\u001b[1;31mModuleNotFoundError\u001b[0m                       Traceback (most recent call last)",
      "\u001b[1;32m<ipython-input-4-cc0c5b39a2b8>\u001b[0m in \u001b[0;36m<module>\u001b[1;34m\u001b[0m\n\u001b[0;32m      1\u001b[0m \u001b[1;32mimport\u001b[0m \u001b[0mpandas\u001b[0m \u001b[1;32mas\u001b[0m \u001b[0mpd\u001b[0m\u001b[1;33m\u001b[0m\u001b[1;33m\u001b[0m\u001b[0m\n\u001b[0;32m      2\u001b[0m \u001b[1;32mimport\u001b[0m \u001b[0mnumpy\u001b[0m \u001b[1;32mas\u001b[0m \u001b[0mnp\u001b[0m\u001b[1;33m\u001b[0m\u001b[1;33m\u001b[0m\u001b[0m\n\u001b[1;32m----> 3\u001b[1;33m \u001b[1;32mimport\u001b[0m \u001b[0myfinance\u001b[0m \u001b[1;32mas\u001b[0m \u001b[0myf\u001b[0m\u001b[1;33m\u001b[0m\u001b[1;33m\u001b[0m\u001b[0m\n\u001b[0m\u001b[0;32m      4\u001b[0m \u001b[1;32mimport\u001b[0m \u001b[0mmatplotlib\u001b[0m\u001b[1;33m.\u001b[0m\u001b[0mpyplot\u001b[0m \u001b[1;32mas\u001b[0m \u001b[0mplt\u001b[0m\u001b[1;33m\u001b[0m\u001b[1;33m\u001b[0m\u001b[0m\n\u001b[0;32m      5\u001b[0m \u001b[0mget_ipython\u001b[0m\u001b[1;33m(\u001b[0m\u001b[1;33m)\u001b[0m\u001b[1;33m.\u001b[0m\u001b[0mrun_line_magic\u001b[0m\u001b[1;33m(\u001b[0m\u001b[1;34m'matplotlib'\u001b[0m\u001b[1;33m,\u001b[0m \u001b[1;34m'inline'\u001b[0m\u001b[1;33m)\u001b[0m\u001b[1;33m\u001b[0m\u001b[1;33m\u001b[0m\u001b[0m\n",
      "\u001b[1;31mModuleNotFoundError\u001b[0m: No module named 'yfinance'"
     ]
    }
   ],
   "source": [
    "import pandas as pd\n",
    "import numpy as np \n",
    "import yfinance as yf\n",
    "import matplotlib.pyplot as plt\n",
    "%matplotlib inline\n",
    "%config IPCompleter.greedy=True"
   ]
  },
  {
   "cell_type": "code",
   "execution_count": 3,
   "metadata": {},
   "outputs": [],
   "source": [
    "data= pd.read_csv(\"./Documents/Python Scripts/datasets/forex/EURUSD_M1.csv\",sep=\";\")"
   ]
  },
  {
   "cell_type": "code",
   "execution_count": 5,
   "metadata": {},
   "outputs": [
    {
     "data": {
      "text/html": [
       "<div>\n",
       "<style scoped>\n",
       "    .dataframe tbody tr th:only-of-type {\n",
       "        vertical-align: middle;\n",
       "    }\n",
       "\n",
       "    .dataframe tbody tr th {\n",
       "        vertical-align: top;\n",
       "    }\n",
       "\n",
       "    .dataframe thead th {\n",
       "        text-align: right;\n",
       "    }\n",
       "</style>\n",
       "<table border=\"1\" class=\"dataframe\">\n",
       "  <thead>\n",
       "    <tr style=\"text-align: right;\">\n",
       "      <th></th>\n",
       "      <th>&lt;DATE&gt;</th>\n",
       "      <th>&lt;TIME&gt;</th>\n",
       "      <th>&lt;OPEN&gt;</th>\n",
       "      <th>&lt;HIGH&gt;</th>\n",
       "      <th>&lt;LOW&gt;</th>\n",
       "      <th>&lt;CLOSE&gt;</th>\n",
       "      <th>&lt;TICKVOL&gt;</th>\n",
       "      <th>&lt;VOL&gt;</th>\n",
       "      <th>&lt;SPREAD&gt;</th>\n",
       "    </tr>\n",
       "  </thead>\n",
       "  <tbody>\n",
       "    <tr>\n",
       "      <td>0</td>\n",
       "      <td>2019.12.24</td>\n",
       "      <td>19:23:00</td>\n",
       "      <td>110.845</td>\n",
       "      <td>110.849</td>\n",
       "      <td>110.845</td>\n",
       "      <td>110.848</td>\n",
       "      <td>18</td>\n",
       "      <td>0</td>\n",
       "      <td>30</td>\n",
       "    </tr>\n",
       "    <tr>\n",
       "      <td>1</td>\n",
       "      <td>2019.12.24</td>\n",
       "      <td>19:24:00</td>\n",
       "      <td>110.849</td>\n",
       "      <td>110.850</td>\n",
       "      <td>110.849</td>\n",
       "      <td>110.850</td>\n",
       "      <td>8</td>\n",
       "      <td>0</td>\n",
       "      <td>30</td>\n",
       "    </tr>\n",
       "    <tr>\n",
       "      <td>2</td>\n",
       "      <td>2019.12.24</td>\n",
       "      <td>19:25:00</td>\n",
       "      <td>110.850</td>\n",
       "      <td>110.850</td>\n",
       "      <td>110.847</td>\n",
       "      <td>110.848</td>\n",
       "      <td>17</td>\n",
       "      <td>0</td>\n",
       "      <td>30</td>\n",
       "    </tr>\n",
       "    <tr>\n",
       "      <td>3</td>\n",
       "      <td>2019.12.24</td>\n",
       "      <td>19:26:00</td>\n",
       "      <td>110.848</td>\n",
       "      <td>110.849</td>\n",
       "      <td>110.841</td>\n",
       "      <td>110.848</td>\n",
       "      <td>17</td>\n",
       "      <td>0</td>\n",
       "      <td>30</td>\n",
       "    </tr>\n",
       "    <tr>\n",
       "      <td>4</td>\n",
       "      <td>2019.12.24</td>\n",
       "      <td>19:27:00</td>\n",
       "      <td>110.848</td>\n",
       "      <td>110.850</td>\n",
       "      <td>110.848</td>\n",
       "      <td>110.849</td>\n",
       "      <td>13</td>\n",
       "      <td>0</td>\n",
       "      <td>30</td>\n",
       "    </tr>\n",
       "  </tbody>\n",
       "</table>\n",
       "</div>"
      ],
      "text/plain": [
       "       <DATE>    <TIME>   <OPEN>   <HIGH>    <LOW>  <CLOSE>  <TICKVOL>  <VOL>  \\\n",
       "0  2019.12.24  19:23:00  110.845  110.849  110.845  110.848         18      0   \n",
       "1  2019.12.24  19:24:00  110.849  110.850  110.849  110.850          8      0   \n",
       "2  2019.12.24  19:25:00  110.850  110.850  110.847  110.848         17      0   \n",
       "3  2019.12.24  19:26:00  110.848  110.849  110.841  110.848         17      0   \n",
       "4  2019.12.24  19:27:00  110.848  110.850  110.848  110.849         13      0   \n",
       "\n",
       "   <SPREAD>  \n",
       "0        30  \n",
       "1        30  \n",
       "2        30  \n",
       "3        30  \n",
       "4        30  "
      ]
     },
     "execution_count": 5,
     "metadata": {},
     "output_type": "execute_result"
    }
   ],
   "source": [
    "data.head()"
   ]
  },
  {
   "cell_type": "code",
   "execution_count": 7,
   "metadata": {},
   "outputs": [],
   "source": [
    "#para saber nombres\n"
   ]
  },
  {
   "cell_type": "code",
   "execution_count": 6,
   "metadata": {},
   "outputs": [
    {
     "data": {
      "text/plain": [
       "array(['<DATE>', '<TIME>', '<OPEN>', '<HIGH>', '<LOW>', '<CLOSE>',\n",
       "       '<TICKVOL>', '<VOL>', '<SPREAD>'], dtype=object)"
      ]
     },
     "execution_count": 6,
     "metadata": {},
     "output_type": "execute_result"
    }
   ],
   "source": [
    "data.columns.values"
   ]
  },
  {
   "cell_type": "code",
   "execution_count": 7,
   "metadata": {},
   "outputs": [
    {
     "data": {
      "text/plain": [
       "(99520, 9)"
      ]
     },
     "execution_count": 7,
     "metadata": {},
     "output_type": "execute_result"
    }
   ],
   "source": [
    "data.shape"
   ]
  },
  {
   "cell_type": "code",
   "execution_count": 8,
   "metadata": {},
   "outputs": [
    {
     "data": {
      "text/html": [
       "<div>\n",
       "<style scoped>\n",
       "    .dataframe tbody tr th:only-of-type {\n",
       "        vertical-align: middle;\n",
       "    }\n",
       "\n",
       "    .dataframe tbody tr th {\n",
       "        vertical-align: top;\n",
       "    }\n",
       "\n",
       "    .dataframe thead th {\n",
       "        text-align: right;\n",
       "    }\n",
       "</style>\n",
       "<table border=\"1\" class=\"dataframe\">\n",
       "  <thead>\n",
       "    <tr style=\"text-align: right;\">\n",
       "      <th></th>\n",
       "      <th>&lt;DATE&gt;</th>\n",
       "      <th>&lt;TIME&gt;</th>\n",
       "      <th>&lt;OPEN&gt;</th>\n",
       "      <th>&lt;HIGH&gt;</th>\n",
       "      <th>&lt;LOW&gt;</th>\n",
       "      <th>&lt;CLOSE&gt;</th>\n",
       "      <th>&lt;TICKVOL&gt;</th>\n",
       "      <th>&lt;VOL&gt;</th>\n",
       "      <th>&lt;SPREAD&gt;</th>\n",
       "    </tr>\n",
       "  </thead>\n",
       "  <tbody>\n",
       "    <tr>\n",
       "      <td>99515</td>\n",
       "      <td>2020.04.02</td>\n",
       "      <td>19:55:00</td>\n",
       "      <td>108.519</td>\n",
       "      <td>108.531</td>\n",
       "      <td>108.443</td>\n",
       "      <td>108.454</td>\n",
       "      <td>179</td>\n",
       "      <td>0</td>\n",
       "      <td>30</td>\n",
       "    </tr>\n",
       "    <tr>\n",
       "      <td>99516</td>\n",
       "      <td>2020.04.02</td>\n",
       "      <td>19:56:00</td>\n",
       "      <td>108.454</td>\n",
       "      <td>108.459</td>\n",
       "      <td>108.399</td>\n",
       "      <td>108.418</td>\n",
       "      <td>152</td>\n",
       "      <td>0</td>\n",
       "      <td>30</td>\n",
       "    </tr>\n",
       "    <tr>\n",
       "      <td>99517</td>\n",
       "      <td>2020.04.02</td>\n",
       "      <td>19:57:00</td>\n",
       "      <td>108.418</td>\n",
       "      <td>108.436</td>\n",
       "      <td>108.368</td>\n",
       "      <td>108.389</td>\n",
       "      <td>150</td>\n",
       "      <td>0</td>\n",
       "      <td>30</td>\n",
       "    </tr>\n",
       "    <tr>\n",
       "      <td>99518</td>\n",
       "      <td>2020.04.02</td>\n",
       "      <td>19:58:00</td>\n",
       "      <td>108.389</td>\n",
       "      <td>108.442</td>\n",
       "      <td>108.389</td>\n",
       "      <td>108.420</td>\n",
       "      <td>152</td>\n",
       "      <td>0</td>\n",
       "      <td>30</td>\n",
       "    </tr>\n",
       "    <tr>\n",
       "      <td>99519</td>\n",
       "      <td>2020.04.02</td>\n",
       "      <td>19:59:00</td>\n",
       "      <td>108.418</td>\n",
       "      <td>108.420</td>\n",
       "      <td>108.395</td>\n",
       "      <td>108.403</td>\n",
       "      <td>141</td>\n",
       "      <td>0</td>\n",
       "      <td>30</td>\n",
       "    </tr>\n",
       "  </tbody>\n",
       "</table>\n",
       "</div>"
      ],
      "text/plain": [
       "           <DATE>    <TIME>   <OPEN>   <HIGH>    <LOW>  <CLOSE>  <TICKVOL>  \\\n",
       "99515  2020.04.02  19:55:00  108.519  108.531  108.443  108.454        179   \n",
       "99516  2020.04.02  19:56:00  108.454  108.459  108.399  108.418        152   \n",
       "99517  2020.04.02  19:57:00  108.418  108.436  108.368  108.389        150   \n",
       "99518  2020.04.02  19:58:00  108.389  108.442  108.389  108.420        152   \n",
       "99519  2020.04.02  19:59:00  108.418  108.420  108.395  108.403        141   \n",
       "\n",
       "       <VOL>  <SPREAD>  \n",
       "99515      0        30  \n",
       "99516      0        30  \n",
       "99517      0        30  \n",
       "99518      0        30  \n",
       "99519      0        30  "
      ]
     },
     "execution_count": 8,
     "metadata": {},
     "output_type": "execute_result"
    }
   ],
   "source": [
    "data.tail()"
   ]
  },
  {
   "cell_type": "code",
   "execution_count": 9,
   "metadata": {},
   "outputs": [
    {
     "data": {
      "text/plain": [
       "array(['<DATE>', '<TIME>', '<OPEN>', '<HIGH>', '<LOW>', '<CLOSE>',\n",
       "       '<TICKVOL>', '<VOL>', '<SPREAD>'], dtype=object)"
      ]
     },
     "execution_count": 9,
     "metadata": {},
     "output_type": "execute_result"
    }
   ],
   "source": [
    "data.columns.values"
   ]
  },
  {
   "cell_type": "code",
   "execution_count": 10,
   "metadata": {},
   "outputs": [
    {
     "data": {
      "text/plain": [
       "Index(['<DATE>', '<TIME>', '<OPEN>', '<HIGH>', '<LOW>', '<CLOSE>', '<TICKVOL>',\n",
       "       '<VOL>', '<SPREAD>'],\n",
       "      dtype='object')"
      ]
     },
     "execution_count": 10,
     "metadata": {},
     "output_type": "execute_result"
    }
   ],
   "source": [
    "data.columns\n"
   ]
  },
  {
   "cell_type": "code",
   "execution_count": 33,
   "metadata": {},
   "outputs": [],
   "source": [
    "## Estadisticos basicos"
   ]
  },
  {
   "cell_type": "code",
   "execution_count": 11,
   "metadata": {},
   "outputs": [
    {
     "data": {
      "text/html": [
       "<div>\n",
       "<style scoped>\n",
       "    .dataframe tbody tr th:only-of-type {\n",
       "        vertical-align: middle;\n",
       "    }\n",
       "\n",
       "    .dataframe tbody tr th {\n",
       "        vertical-align: top;\n",
       "    }\n",
       "\n",
       "    .dataframe thead th {\n",
       "        text-align: right;\n",
       "    }\n",
       "</style>\n",
       "<table border=\"1\" class=\"dataframe\">\n",
       "  <thead>\n",
       "    <tr style=\"text-align: right;\">\n",
       "      <th></th>\n",
       "      <th>&lt;OPEN&gt;</th>\n",
       "      <th>&lt;HIGH&gt;</th>\n",
       "      <th>&lt;LOW&gt;</th>\n",
       "      <th>&lt;CLOSE&gt;</th>\n",
       "      <th>&lt;TICKVOL&gt;</th>\n",
       "      <th>&lt;VOL&gt;</th>\n",
       "      <th>&lt;SPREAD&gt;</th>\n",
       "    </tr>\n",
       "  </thead>\n",
       "  <tbody>\n",
       "    <tr>\n",
       "      <td>count</td>\n",
       "      <td>99520.000000</td>\n",
       "      <td>99520.000000</td>\n",
       "      <td>99520.000000</td>\n",
       "      <td>99520.000000</td>\n",
       "      <td>99520.000000</td>\n",
       "      <td>99520.0</td>\n",
       "      <td>99520.0</td>\n",
       "    </tr>\n",
       "    <tr>\n",
       "      <td>mean</td>\n",
       "      <td>110.319883</td>\n",
       "      <td>110.329200</td>\n",
       "      <td>110.310509</td>\n",
       "      <td>110.319849</td>\n",
       "      <td>53.816992</td>\n",
       "      <td>0.0</td>\n",
       "      <td>30.0</td>\n",
       "    </tr>\n",
       "    <tr>\n",
       "      <td>std</td>\n",
       "      <td>1.535202</td>\n",
       "      <td>1.535099</td>\n",
       "      <td>1.535335</td>\n",
       "      <td>1.535206</td>\n",
       "      <td>60.861635</td>\n",
       "      <td>0.0</td>\n",
       "      <td>0.0</td>\n",
       "    </tr>\n",
       "    <tr>\n",
       "      <td>min</td>\n",
       "      <td>106.372000</td>\n",
       "      <td>106.388000</td>\n",
       "      <td>106.346000</td>\n",
       "      <td>106.372000</td>\n",
       "      <td>1.000000</td>\n",
       "      <td>0.0</td>\n",
       "      <td>30.0</td>\n",
       "    </tr>\n",
       "    <tr>\n",
       "      <td>25%</td>\n",
       "      <td>109.124000</td>\n",
       "      <td>109.130000</td>\n",
       "      <td>109.118000</td>\n",
       "      <td>109.124000</td>\n",
       "      <td>14.000000</td>\n",
       "      <td>0.0</td>\n",
       "      <td>30.0</td>\n",
       "    </tr>\n",
       "    <tr>\n",
       "      <td>50%</td>\n",
       "      <td>110.439000</td>\n",
       "      <td>110.446000</td>\n",
       "      <td>110.433000</td>\n",
       "      <td>110.439000</td>\n",
       "      <td>30.000000</td>\n",
       "      <td>0.0</td>\n",
       "      <td>30.0</td>\n",
       "    </tr>\n",
       "    <tr>\n",
       "      <td>75%</td>\n",
       "      <td>111.356000</td>\n",
       "      <td>111.360000</td>\n",
       "      <td>111.352000</td>\n",
       "      <td>111.356000</td>\n",
       "      <td>69.000000</td>\n",
       "      <td>0.0</td>\n",
       "      <td>30.0</td>\n",
       "    </tr>\n",
       "    <tr>\n",
       "      <td>max</td>\n",
       "      <td>114.819000</td>\n",
       "      <td>114.955000</td>\n",
       "      <td>114.794000</td>\n",
       "      <td>114.818000</td>\n",
       "      <td>806.000000</td>\n",
       "      <td>0.0</td>\n",
       "      <td>30.0</td>\n",
       "    </tr>\n",
       "  </tbody>\n",
       "</table>\n",
       "</div>"
      ],
      "text/plain": [
       "             <OPEN>        <HIGH>         <LOW>       <CLOSE>     <TICKVOL>  \\\n",
       "count  99520.000000  99520.000000  99520.000000  99520.000000  99520.000000   \n",
       "mean     110.319883    110.329200    110.310509    110.319849     53.816992   \n",
       "std        1.535202      1.535099      1.535335      1.535206     60.861635   \n",
       "min      106.372000    106.388000    106.346000    106.372000      1.000000   \n",
       "25%      109.124000    109.130000    109.118000    109.124000     14.000000   \n",
       "50%      110.439000    110.446000    110.433000    110.439000     30.000000   \n",
       "75%      111.356000    111.360000    111.352000    111.356000     69.000000   \n",
       "max      114.819000    114.955000    114.794000    114.818000    806.000000   \n",
       "\n",
       "         <VOL>  <SPREAD>  \n",
       "count  99520.0   99520.0  \n",
       "mean       0.0      30.0  \n",
       "std        0.0       0.0  \n",
       "min        0.0      30.0  \n",
       "25%        0.0      30.0  \n",
       "50%        0.0      30.0  \n",
       "75%        0.0      30.0  \n",
       "max        0.0      30.0  "
      ]
     },
     "execution_count": 11,
     "metadata": {},
     "output_type": "execute_result"
    }
   ],
   "source": [
    "data.describe()"
   ]
  },
  {
   "cell_type": "code",
   "execution_count": 12,
   "metadata": {},
   "outputs": [
    {
     "data": {
      "text/plain": [
       "<DATE>        object\n",
       "<TIME>        object\n",
       "<OPEN>       float64\n",
       "<HIGH>       float64\n",
       "<LOW>        float64\n",
       "<CLOSE>      float64\n",
       "<TICKVOL>      int64\n",
       "<VOL>          int64\n",
       "<SPREAD>       int64\n",
       "dtype: object"
      ]
     },
     "execution_count": 12,
     "metadata": {},
     "output_type": "execute_result"
    }
   ],
   "source": [
    "data.dtypes"
   ]
  },
  {
   "cell_type": "code",
   "execution_count": 13,
   "metadata": {},
   "outputs": [
    {
     "data": {
      "text/plain": [
       "0        False\n",
       "1        False\n",
       "2        False\n",
       "3        False\n",
       "4        False\n",
       "         ...  \n",
       "99515    False\n",
       "99516    False\n",
       "99517    False\n",
       "99518    False\n",
       "99519    False\n",
       "Name: <CLOSE>, Length: 99520, dtype: bool"
      ]
     },
     "execution_count": 13,
     "metadata": {},
     "output_type": "execute_result"
    }
   ],
   "source": [
    "pd.isnull(data[\"<CLOSE>\"])"
   ]
  },
  {
   "cell_type": "code",
   "execution_count": 14,
   "metadata": {},
   "outputs": [
    {
     "data": {
      "text/plain": [
       "0        True\n",
       "1        True\n",
       "2        True\n",
       "3        True\n",
       "4        True\n",
       "         ... \n",
       "99515    True\n",
       "99516    True\n",
       "99517    True\n",
       "99518    True\n",
       "99519    True\n",
       "Name: <CLOSE>, Length: 99520, dtype: bool"
      ]
     },
     "execution_count": 14,
     "metadata": {},
     "output_type": "execute_result"
    }
   ],
   "source": [
    "pd.notnull(data[\"<CLOSE>\"])"
   ]
  },
  {
   "cell_type": "code",
   "execution_count": 15,
   "metadata": {},
   "outputs": [
    {
     "data": {
      "text/plain": [
       "99520"
      ]
     },
     "execution_count": 15,
     "metadata": {},
     "output_type": "execute_result"
    }
   ],
   "source": [
    "pd.notnull(data[\"<CLOSE>\"]).values.ravel().sum()"
   ]
  },
  {
   "cell_type": "code",
   "execution_count": 16,
   "metadata": {},
   "outputs": [
    {
     "data": {
      "text/plain": [
       "0"
      ]
     },
     "execution_count": 16,
     "metadata": {},
     "output_type": "execute_result"
    }
   ],
   "source": [
    "pd.isnull(data[\"<CLOSE>\"]).values.ravel().sum()"
   ]
  },
  {
   "cell_type": "code",
   "execution_count": 17,
   "metadata": {},
   "outputs": [
    {
     "data": {
      "text/plain": [
       "0        True\n",
       "1        True\n",
       "2        True\n",
       "3        True\n",
       "4        True\n",
       "         ... \n",
       "99515    True\n",
       "99516    True\n",
       "99517    True\n",
       "99518    True\n",
       "99519    True\n",
       "Name: <VOL>, Length: 99520, dtype: bool"
      ]
     },
     "execution_count": 17,
     "metadata": {},
     "output_type": "execute_result"
    }
   ],
   "source": [
    "pd.notnull(data[\"<VOL>\"])"
   ]
  },
  {
   "cell_type": "code",
   "execution_count": 19,
   "metadata": {},
   "outputs": [
    {
     "data": {
      "text/plain": [
       "['<DATE>',\n",
       " '<TIME>',\n",
       " '<OPEN>',\n",
       " '<HIGH>',\n",
       " '<LOW>',\n",
       " '<CLOSE>',\n",
       " '<TICKVOL>',\n",
       " '<VOL>',\n",
       " '<SPREAD>']"
      ]
     },
     "execution_count": 19,
     "metadata": {},
     "output_type": "execute_result"
    }
   ],
   "source": [
    "column_name=data.columns.values.tolist()\n",
    "column_name"
   ]
  },
  {
   "cell_type": "code",
   "execution_count": 21,
   "metadata": {},
   "outputs": [
    {
     "data": {
      "text/html": [
       "<div>\n",
       "<style scoped>\n",
       "    .dataframe tbody tr th:only-of-type {\n",
       "        vertical-align: middle;\n",
       "    }\n",
       "\n",
       "    .dataframe tbody tr th {\n",
       "        vertical-align: top;\n",
       "    }\n",
       "\n",
       "    .dataframe thead th {\n",
       "        text-align: right;\n",
       "    }\n",
       "</style>\n",
       "<table border=\"1\" class=\"dataframe\">\n",
       "  <thead>\n",
       "    <tr style=\"text-align: right;\">\n",
       "      <th></th>\n",
       "      <th>&lt;DATE&gt;</th>\n",
       "      <th>&lt;TIME&gt;</th>\n",
       "      <th>&lt;OPEN&gt;</th>\n",
       "      <th>&lt;HIGH&gt;</th>\n",
       "      <th>&lt;LOW&gt;</th>\n",
       "      <th>&lt;CLOSE&gt;</th>\n",
       "      <th>&lt;TICKVOL&gt;</th>\n",
       "      <th>&lt;VOL&gt;</th>\n",
       "      <th>&lt;SPREAD&gt;</th>\n",
       "    </tr>\n",
       "  </thead>\n",
       "  <tbody>\n",
       "    <tr>\n",
       "      <td>0</td>\n",
       "      <td>2019.12.24</td>\n",
       "      <td>19:23:00</td>\n",
       "      <td>110.845</td>\n",
       "      <td>110.849</td>\n",
       "      <td>110.845</td>\n",
       "      <td>110.848</td>\n",
       "      <td>18</td>\n",
       "      <td>0</td>\n",
       "      <td>30</td>\n",
       "    </tr>\n",
       "    <tr>\n",
       "      <td>1</td>\n",
       "      <td>2019.12.24</td>\n",
       "      <td>19:24:00</td>\n",
       "      <td>110.849</td>\n",
       "      <td>110.850</td>\n",
       "      <td>110.849</td>\n",
       "      <td>110.850</td>\n",
       "      <td>8</td>\n",
       "      <td>0</td>\n",
       "      <td>30</td>\n",
       "    </tr>\n",
       "    <tr>\n",
       "      <td>2</td>\n",
       "      <td>2019.12.24</td>\n",
       "      <td>19:25:00</td>\n",
       "      <td>110.850</td>\n",
       "      <td>110.850</td>\n",
       "      <td>110.847</td>\n",
       "      <td>110.848</td>\n",
       "      <td>17</td>\n",
       "      <td>0</td>\n",
       "      <td>30</td>\n",
       "    </tr>\n",
       "    <tr>\n",
       "      <td>3</td>\n",
       "      <td>2019.12.24</td>\n",
       "      <td>19:26:00</td>\n",
       "      <td>110.848</td>\n",
       "      <td>110.849</td>\n",
       "      <td>110.841</td>\n",
       "      <td>110.848</td>\n",
       "      <td>17</td>\n",
       "      <td>0</td>\n",
       "      <td>30</td>\n",
       "    </tr>\n",
       "    <tr>\n",
       "      <td>4</td>\n",
       "      <td>2019.12.24</td>\n",
       "      <td>19:27:00</td>\n",
       "      <td>110.848</td>\n",
       "      <td>110.850</td>\n",
       "      <td>110.848</td>\n",
       "      <td>110.849</td>\n",
       "      <td>13</td>\n",
       "      <td>0</td>\n",
       "      <td>30</td>\n",
       "    </tr>\n",
       "  </tbody>\n",
       "</table>\n",
       "</div>"
      ],
      "text/plain": [
       "       <DATE>    <TIME>   <OPEN>   <HIGH>    <LOW>  <CLOSE>  <TICKVOL>  <VOL>  \\\n",
       "0  2019.12.24  19:23:00  110.845  110.849  110.845  110.848         18      0   \n",
       "1  2019.12.24  19:24:00  110.849  110.850  110.849  110.850          8      0   \n",
       "2  2019.12.24  19:25:00  110.850  110.850  110.847  110.848         17      0   \n",
       "3  2019.12.24  19:26:00  110.848  110.849  110.841  110.848         17      0   \n",
       "4  2019.12.24  19:27:00  110.848  110.850  110.848  110.849         13      0   \n",
       "\n",
       "   <SPREAD>  \n",
       "0        30  \n",
       "1        30  \n",
       "2        30  \n",
       "3        30  \n",
       "4        30  "
      ]
     },
     "execution_count": 21,
     "metadata": {},
     "output_type": "execute_result"
    }
   ],
   "source": [
    "data.head()"
   ]
  },
  {
   "cell_type": "code",
   "execution_count": 7,
   "metadata": {},
   "outputs": [
    {
     "data": {
      "text/plain": [
       "<matplotlib.axes._subplots.AxesSubplot at 0x224957a5048>"
      ]
     },
     "execution_count": 7,
     "metadata": {},
     "output_type": "execute_result"
    },
    {
     "data": {
      "image/png": "[encoded data removed]",
      "text/plain": [
       "<Figure size 432x288 with 1 Axes>"
      ]
     },
     "metadata": {
      "needs_background": "light"
     },
     "output_type": "display_data"
    }
   ],
   "source": [
    "data.plot(kind=\"scatter\", x=\"<LOW>\", y =\"<CLOSE>\")"
   ]
  },
  {
   "cell_type": "code",
   "execution_count": 16,
   "metadata": {},
   "outputs": [
    {
     "data": {
      "text/plain": [
       "<matplotlib.axes._subplots.AxesSubplot at 0x22494a6b848>"
      ]
     },
     "execution_count": 16,
     "metadata": {},
     "output_type": "execute_result"
    },
    {
     "data": {
      "image/png": "[encoded data removed]",
      "text/plain": [
       "<Figure size 432x288 with 4 Axes>"
      ]
     },
     "metadata": {
      "needs_background": "light"
     },
     "output_type": "display_data"
    }
   ],
   "source": [
    "figure ,axs= plt.subplots (2,2, sharey = True, sharex=True)\n",
    "data.plot(kind=\"scatter\", x=\"<LOW>\", y =\"<CLOSE>\", ax=axs [0][0])\n",
    "data.plot(kind=\"scatter\", x =\"<OPEN>\", y =\"<HIGH>\", ax=axs [0][1])"
   ]
  },
  {
   "cell_type": "markdown",
   "metadata": {},
   "source": [
    "histograma de frecuencias"
   ]
  },
  {
   "cell_type": "code",
   "execution_count": 18,
   "metadata": {},
   "outputs": [
    {
     "data": {
      "text/plain": [
       "(array([  812.,   855.,  1539.,  5351.,  7647.,  5858.,  5484.,  4660.,\n",
       "         9298., 11334., 10714., 13658., 10106.,  5698.,  1072.,  1549.,\n",
       "         1599.,   951.,   885.,   450.]),\n",
       " array([106.372  , 106.79435, 107.2167 , 107.63905, 108.0614 , 108.48375,\n",
       "        108.9061 , 109.32845, 109.7508 , 110.17315, 110.5955 , 111.01785,\n",
       "        111.4402 , 111.86255, 112.2849 , 112.70725, 113.1296 , 113.55195,\n",
       "        113.9743 , 114.39665, 114.819  ]),\n",
       " <a list of 20 Patch objects>)"
      ]
     },
     "execution_count": 18,
     "metadata": {},
     "output_type": "execute_result"
    },
    {
     "data": {
      "image/png": "[encoded data removed]",
      "text/plain": [
       "<Figure size 432x288 with 1 Axes>"
      ]
     },
     "metadata": {
      "needs_background": "light"
     },
     "output_type": "display_data"
    }
   ],
   "source": [
    "plt.hist(data[\"<OPEN>\"], bins=20)"
   ]
  },
  {
   "cell_type": "code",
   "execution_count": null,
   "metadata": {},
   "outputs": [],
   "source": []
  },
  {
   "cell_type": "code",
   "execution_count": null,
   "metadata": {},
   "outputs": [],
   "source": []
  }
 ],
 "metadata": {
  "kernelspec": {
   "display_name": "Python 3",
   "language": "python",
   "name": "python3"
  },
  "language_info": {
   "codemirror_mode": {
    "name": "ipython",
    "version": 3
   },
   "file_extension": ".py",
   "mimetype": "text/x-python",
   "name": "python",
   "nbconvert_exporter": "python",
   "pygments_lexer": "ipython3",
   "version": "3.8.5"
  }
 },
 "nbformat": 4,
 "nbformat_minor": 2
}
