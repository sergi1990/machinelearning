{
 "cells": [
  {
   "cell_type": "markdown",
   "metadata": {},
   "source": [
    "# Método de k-means"
   ]
  },
  {
   "cell_type": "code",
   "execution_count": 1,
   "metadata": {},
   "outputs": [],
   "source": [
    "import numpy as np"
   ]
  },
  {
   "cell_type": "code",
   "execution_count": 2,
   "metadata": {},
   "outputs": [
    {
     "data": {
      "text/plain": [
       "array([[0.61700321, 0.08573929, 0.11997005],\n",
       "       [0.32390719, 0.75597296, 0.58068524],\n",
       "       [0.01260363, 0.50826077, 0.96468369],\n",
       "       [0.24970864, 0.84015215, 0.29310449],\n",
       "       [0.32581984, 0.82933612, 0.10934188],\n",
       "       [0.79486156, 0.18573609, 0.17932147],\n",
       "       [0.52645272, 0.54598841, 0.35962688],\n",
       "       [0.4258965 , 0.69239199, 0.50019256],\n",
       "       [0.80517765, 0.3841579 , 0.38303142],\n",
       "       [0.51978109, 0.25791475, 0.35359092],\n",
       "       [0.04006136, 0.91382448, 0.55191003],\n",
       "       [0.36765813, 0.6310168 , 0.13411622],\n",
       "       [0.63378069, 0.49124071, 0.82414522],\n",
       "       [0.85668816, 0.04500742, 0.14519676],\n",
       "       [0.2420119 , 0.24422993, 0.27066793],\n",
       "       [0.61391109, 0.67817181, 0.7499907 ],\n",
       "       [0.77662353, 0.967334  , 0.88290429],\n",
       "       [0.30576595, 0.3536311 , 0.82164782],\n",
       "       [0.86390628, 0.38947537, 0.737436  ],\n",
       "       [0.7755764 , 0.87037071, 0.8946947 ],\n",
       "       [0.55859618, 0.34871045, 0.03105071],\n",
       "       [0.55207278, 0.45463675, 0.97824656],\n",
       "       [0.08763838, 0.66333575, 0.2706548 ],\n",
       "       [0.05302183, 0.28676569, 0.00194763],\n",
       "       [0.3398201 , 0.035909  , 0.07126287],\n",
       "       [0.35020938, 0.13166418, 0.8780526 ],\n",
       "       [0.8955507 , 0.01017079, 0.73824737],\n",
       "       [0.98127314, 0.49258338, 0.74924302],\n",
       "       [0.43310783, 0.73615764, 0.10957581],\n",
       "       [0.49259525, 0.73858985, 0.77985454]])"
      ]
     },
     "execution_count": 2,
     "metadata": {},
     "output_type": "execute_result"
    }
   ],
   "source": [
    "data = np.random.random(90). reshape(30,3)\n",
    "data"
   ]
  },
  {
   "cell_type": "code",
   "execution_count": 4,
   "metadata": {},
   "outputs": [
    {
     "data": {
      "text/plain": [
       "array([[0.04006136, 0.91382448, 0.55191003],\n",
       "       [0.30576595, 0.3536311 , 0.82164782]])"
      ]
     },
     "execution_count": 4,
     "metadata": {},
     "output_type": "execute_result"
    }
   ],
   "source": [
    "c1 = np.random.choice(range(len(data)))\n",
    "c2 = np.random.choice(range(len(data)))\n",
    "clust_centers =np.vstack ([data[c1],data[c2]])\n",
    "clust_centers"
   ]
  },
  {
   "cell_type": "code",
   "execution_count": 5,
   "metadata": {},
   "outputs": [],
   "source": [
    "from scipy.cluster.vq import vq"
   ]
  },
  {
   "cell_type": "code",
   "execution_count": 7,
   "metadata": {},
   "outputs": [
    {
     "data": {
      "text/plain": [
       "(array([1, 0, 1, 0, 0, 1, 1, 0, 1, 1, 0, 0, 1, 1, 1, 1, 1, 1, 1, 1, 1, 1,\n",
       "        0, 0, 1, 1, 1, 1, 0, 1]),\n",
       " array([0.81301066, 0.32605762, 0.36098995, 0.34111567, 0.53353796,\n",
       "        0.82461286, 0.54696191, 0.44785689, 0.6653783 , 0.5234896 ,\n",
       "        0.        , 0.60154093, 0.35571943, 0.92539175, 0.5653424 ,\n",
       "        0.45322714, 0.77594489, 0.        , 0.56559444, 0.7021948 ,\n",
       "        0.83005489, 0.30885654, 0.37962176, 0.83416386, 0.81558849,\n",
       "        0.23329387, 0.68758029, 0.6934408 , 0.61782731, 0.42993616]))"
      ]
     },
     "execution_count": 7,
     "metadata": {},
     "output_type": "execute_result"
    }
   ],
   "source": [
    "vq(data, clust_centers)"
   ]
  },
  {
   "cell_type": "code",
   "execution_count": 8,
   "metadata": {},
   "outputs": [],
   "source": [
    "from scipy.cluster.vq import kmeans"
   ]
  },
  {
   "cell_type": "code",
   "execution_count": 9,
   "metadata": {},
   "outputs": [
    {
     "data": {
      "text/plain": [
       "(array([[0.42040068, 0.47124149, 0.24806931],\n",
       "        [0.60448907, 0.50717745, 0.83326221]]),\n",
       " 0.3758224297011784)"
      ]
     },
     "execution_count": 9,
     "metadata": {},
     "output_type": "execute_result"
    }
   ],
   "source": [
    "kmeans(data,clust_centers)"
   ]
  },
  {
   "cell_type": "code",
   "execution_count": 10,
   "metadata": {},
   "outputs": [
    {
     "data": {
      "text/plain": [
       "(array([[0.45182315, 0.40801049, 0.18883066],\n",
       "        [0.53624893, 0.56322126, 0.77546229]]),\n",
       " 0.37443343650044114)"
      ]
     },
     "execution_count": 10,
     "metadata": {},
     "output_type": "execute_result"
    }
   ],
   "source": [
    "kmeans (data, 2)"
   ]
  },
  {
   "cell_type": "code",
   "execution_count": null,
   "metadata": {},
   "outputs": [],
   "source": []
  }
 ],
 "metadata": {
  "kernelspec": {
   "display_name": "Python 3",
   "language": "python",
   "name": "python3"
  },
  "language_info": {
   "codemirror_mode": {
    "name": "ipython",
    "version": 3
   },
   "file_extension": ".py",
   "mimetype": "text/x-python",
   "name": "python",
   "nbconvert_exporter": "python",
   "pygments_lexer": "ipython3",
   "version": "3.7.4"
  }
 },
 "nbformat": 4,
 "nbformat_minor": 4
}
